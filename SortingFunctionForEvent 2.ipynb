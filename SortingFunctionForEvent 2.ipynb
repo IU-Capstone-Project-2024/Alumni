{
 "cells": [
  {
   "cell_type": "markdown",
   "metadata": {},
   "source": [
    "#### Retrieve a list of events with [id(int), [array of related tags]]"
   ]
  },
  {
   "cell_type": "code",
   "execution_count": 1,
   "metadata": {},
   "outputs": [],
   "source": [
    "events = [\n",
    "    [0, [\"Fullstack\", \"Web - development\", \"Startup\"]],\n",
    "    [1, [\"Art\", \"Photography\"]],\n",
    "    [2, [\"Running\", \"Health\"]],\n",
    "    [3, [\"Books\", \"Literature\"]],\n",
    "    [4, [\"Hiking\", \"Travelling\"]],\n",
    "    [5, [\"BBQ\", \"Music\"]],\n",
    "    [6, [\"CV\", \"Carrier Development\"]],\n",
    "    [7, [\"Frontend\", \"Web - development\"]],\n",
    "    [8, [\"Backend\", \"Cloud Computing\"]],\n",
    "    [9, [\"Data Science\", \"ML\"]],\n",
    "    [10, [\"AI\", \"Cybersecurity\"]],\n",
    "    [11, [\"DevOps\", \"Cloud Computing\"]],\n",
    "    [12, [\"Mobile Development\", \"Game Development\"]],\n",
    "    [13, [\"UX/UI Design\", \"Web - development\"]],\n",
    "    [14, [\"Open Source\", \"Hackatons\"]],\n",
    "    [15, [\"IT - business\", \"Networking\"]],\n",
    "    [16, [\"Psychology\", \"Self-development\"]],\n",
    "    [17, [\"Soft skills\", \"Personal growth\"]],\n",
    "    [18, [\"Workshop\", \"Hackatons\"]],\n",
    "    [19, [\"Alcohol\", \"Social networks\"]],\n",
    "    [20, [\"Movies\", \"Board Games\"]],\n",
    "    [21, [\"Chess\", \"Cybersport\"]],\n",
    "    [22, [\"Sport\", \"Health\"]],\n",
    "    [23, [\"Volonteering\", \"Charity\"]],\n",
    "    [24, [\"Videography\", \"Podcasts\"]],\n",
    "    [25, [\"Cooking\", \"Personal growth\"]],\n",
    "    [26, [\"Art\", \"Literature\"]],\n",
    "    [27, [\"Photography\", \"Travelling\"]],\n",
    "    [28, [\"Running\", \"Sport\"]],\n",
    "    [29, [\"Walks\", \"Health\"]],\n",
    "    [30, [\"Dancing\", \"Music\"]],\n",
    "    [31, [\"Books\", \"Self-development\"]],\n",
    "    [32, [\"Hiking\", \"Ecology\"]],\n",
    "    [33, [\"BBQ\", \"Cooking\"]],\n",
    "    [34, [\"CV\", \"Networking\"]],\n",
    "    [35, [\"Frontend\", \"IT - business\"]],\n",
    "    [36, [\"Backend\", \"DevOps\"]],\n",
    "    [37, [\"Data Science\", \"AI\"]],\n",
    "    [38, [\"ML\", \"Hackatons\"]],\n",
    "    [39, [\"Cybersecurity\", \"Cloud Computing\"]],\n",
    "    [40, [\"Mobile Development\", \"UX/UI Design\"]],\n",
    "    [41, [\"Game Development\", \"Cybersport\"]],\n",
    "    [42, [\"Open Source\", \"Web - development\"]],\n",
    "    [43, [\"Startup\", \"IT - business\"]],\n",
    "    [44, [\"Psychology\", \"Soft skills\"]],\n",
    "    [45, [\"Workshop\", \"Carrier Development\"]],\n",
    "    [46, [\"Alcohol\", \"Movies\"]],\n",
    "    [47, [\"Music\", \"Art\"]],\n",
    "    [48, [\"Board Games\", \"Social networks\"]],\n",
    "    [49, [\"Chess\", \"IT - business\"]],\n",
    "    [50, [\"Dancing\"]],\n",
    "    [51, [\"AI\"]],\n",
    "    [52, [\"Data Science\"]],\n",
    "    [53, [\"Cloud Computing\"]],\n",
    "    [54, [\"Game Development\"]],\n",
    "    [55, [\"Hackatons\", \"Open Source\", \"Web - development\"]],\n",
    "    [56, [\"Photography\", \"Videography\", \"Art\"]],\n",
    "    [57, [\"Books\", \"Podcasts\"]],\n",
    "    [58, [\"Volonteering\", \"Charity\", \"Self-development\"]],\n",
    "    [59, [\"Psychology\", \"Health\", \"Personal growth\"]],\n",
    "    [60, [\"Cooking\", \"BBQ\", \"Social networks\"]],\n",
    "    [61, [\"Sport\", \"Running\", \"Health\"]],\n",
    "    [62, [\"Frontend\", \"Backend\", \"Fullstack\"]],\n",
    "    [63, [\"ML\", \"AI\", \"Data Science\"]],\n",
    "    [64, [\"Mobile Development\", \"Cloud Computing\", \"DevOps\"]],\n",
    "    [65, [\"Networking\", \"IT - business\"]],\n",
    "    [66, [\"Soft skills\", \"Carrier Development\"]],\n",
    "    [67, [\"Cybersport\", \"Chess\"]],\n",
    "    [68, [\"Workshop\"]],\n",
    "    [69, [\"Travelling\"]],\n",
    "    [70, [\"Ecology\"]],\n",
    "    [71, [\"Personal growth\"]],\n",
    "    [72, [\"Charity\"]],\n",
    "    [73, [\"Movies\"]],\n",
    "    [74, [\"Social networks\"]],\n",
    "    [75, [\"Podcasts\"]],\n",
    "    [76, [\"Literature\"]],\n",
    "    [77, [\"Board Games\"]],\n",
    "    [78, [\"Fullstack\"]],\n",
    "    [79, [\"Web - development\"]]\n",
    "]"
   ]
  },
  {
   "cell_type": "markdown",
   "metadata": {},
   "source": [
    "#### User chooses interests from a list in a profile page and using function retrieve the array of interests"
   ]
  },
  {
   "cell_type": "code",
   "execution_count": 44,
   "metadata": {},
   "outputs": [],
   "source": [
    "user_interests = [\"AI, ML\"]"
   ]
  },
  {
   "cell_type": "markdown",
   "metadata": {},
   "source": [
    "### Content-Based Filtering with TF-IDF and Cosine Similarity"
   ]
  },
  {
   "cell_type": "code",
   "execution_count": 8,
   "metadata": {},
   "outputs": [],
   "source": [
    "from sklearn.feature_extraction.text import TfidfVectorizer\n",
    "from sklearn.metrics.pairwise import cosine_similarity\n",
    "import numpy as np"
   ]
  },
  {
   "cell_type": "markdown",
   "metadata": {},
   "source": [
    "#### Using model create embeddings for events (How to integrate into Django project? Automaticaly generate embedding and add to database with event, in case of user interest - generate embedding for interests and add into user database)"
   ]
  },
  {
   "cell_type": "code",
   "execution_count": 9,
   "metadata": {},
   "outputs": [],
   "source": [
    "event_descriptions = [\" \".join(tags) for _, tags in events]\n",
    "\n",
    "# Vectorize event descriptions using TF-IDF\n",
    "vectorizer = TfidfVectorizer()\n",
    "event_tfidf_matrix = vectorizer.fit_transform(event_descriptions)"
   ]
  },
  {
   "cell_type": "markdown",
   "metadata": {},
   "source": [
    "#### Conver user interests into embedding"
   ]
  },
  {
   "cell_type": "code",
   "execution_count": 47,
   "metadata": {},
   "outputs": [],
   "source": [
    "user_profile = \" \".join(user_interests)\n",
    "\n",
    "# Vectorize user profile using the same TF-IDF vectorizer\n",
    "user_tfidf_vector = vectorizer.transform([user_profile])"
   ]
  },
  {
   "cell_type": "markdown",
   "metadata": {},
   "source": [
    "#### Reorder the events array according similarity score"
   ]
  },
  {
   "cell_type": "code",
   "execution_count": 48,
   "metadata": {},
   "outputs": [
    {
     "name": "stdout",
     "output_type": "stream",
     "text": [
      "[63, ['ML', 'AI', 'Data Science']]\n",
      "[51, ['AI']]\n",
      "[38, ['ML', 'Hackatons']]\n",
      "[10, ['AI', 'Cybersecurity']]\n",
      "[9, ['Data Science', 'ML']]\n",
      "[37, ['Data Science', 'AI']]\n",
      "[32, ['Hiking', 'Ecology']]\n",
      "[31, ['Books', 'Self-development']]\n",
      "[30, ['Dancing', 'Music']]\n",
      "[29, ['Walks', 'Health']]\n",
      "[33, ['BBQ', 'Cooking']]\n",
      "[21, ['Chess', 'Cybersport']]\n",
      "[28, ['Running', 'Sport']]\n",
      "[27, ['Photography', 'Travelling']]\n",
      "[26, ['Art', 'Literature']]\n",
      "[34, ['CV', 'Networking']]\n",
      "[35, ['Frontend', 'IT - business']]\n",
      "[25, ['Cooking', 'Personal growth']]\n",
      "[24, ['Videography', 'Podcasts']]\n",
      "[23, ['Volonteering', 'Charity']]\n",
      "[36, ['Backend', 'DevOps']]\n",
      "[22, ['Sport', 'Health']]\n",
      "[79, ['Web - development']]\n",
      "[20, ['Movies', 'Board Games']]\n",
      "[19, ['Alcohol', 'Social networks']]\n",
      "[1, ['Art', 'Photography']]\n",
      "[2, ['Running', 'Health']]\n",
      "[3, ['Books', 'Literature']]\n",
      "[4, ['Hiking', 'Travelling']]\n",
      "[5, ['BBQ', 'Music']]\n",
      "[6, ['CV', 'Carrier Development']]\n",
      "[7, ['Frontend', 'Web - development']]\n",
      "[8, ['Backend', 'Cloud Computing']]\n",
      "[11, ['DevOps', 'Cloud Computing']]\n",
      "[12, ['Mobile Development', 'Game Development']]\n",
      "[13, ['UX/UI Design', 'Web - development']]\n",
      "[14, ['Open Source', 'Hackatons']]\n",
      "[15, ['IT - business', 'Networking']]\n",
      "[16, ['Psychology', 'Self-development']]\n",
      "[17, ['Soft skills', 'Personal growth']]\n",
      "[18, ['Workshop', 'Hackatons']]\n",
      "[39, ['Cybersecurity', 'Cloud Computing']]\n",
      "[78, ['Fullstack']]\n",
      "[69, ['Travelling']]\n",
      "[61, ['Sport', 'Running', 'Health']]\n",
      "[62, ['Frontend', 'Backend', 'Fullstack']]\n",
      "[64, ['Mobile Development', 'Cloud Computing', 'DevOps']]\n",
      "[65, ['Networking', 'IT - business']]\n",
      "[66, ['Soft skills', 'Carrier Development']]\n",
      "[67, ['Cybersport', 'Chess']]\n",
      "[68, ['Workshop']]\n",
      "[70, ['Ecology']]\n",
      "[40, ['Mobile Development', 'UX/UI Design']]\n",
      "[71, ['Personal growth']]\n",
      "[72, ['Charity']]\n",
      "[73, ['Movies']]\n",
      "[74, ['Social networks']]\n",
      "[75, ['Podcasts']]\n",
      "[76, ['Literature']]\n",
      "[77, ['Board Games']]\n",
      "[60, ['Cooking', 'BBQ', 'Social networks']]\n",
      "[59, ['Psychology', 'Health', 'Personal growth']]\n",
      "[58, ['Volonteering', 'Charity', 'Self-development']]\n",
      "[57, ['Books', 'Podcasts']]\n",
      "[41, ['Game Development', 'Cybersport']]\n",
      "[42, ['Open Source', 'Web - development']]\n",
      "[43, ['Startup', 'IT - business']]\n",
      "[44, ['Psychology', 'Soft skills']]\n",
      "[45, ['Workshop', 'Carrier Development']]\n",
      "[46, ['Alcohol', 'Movies']]\n",
      "[47, ['Music', 'Art']]\n",
      "[48, ['Board Games', 'Social networks']]\n",
      "[49, ['Chess', 'IT - business']]\n",
      "[50, ['Dancing']]\n",
      "[52, ['Data Science']]\n",
      "[53, ['Cloud Computing']]\n",
      "[54, ['Game Development']]\n",
      "[55, ['Hackatons', 'Open Source', 'Web - development']]\n",
      "[56, ['Photography', 'Videography', 'Art']]\n",
      "[0, ['Fullstack', 'Web - development', 'Startup']]\n"
     ]
    }
   ],
   "source": [
    "similarity_scores = cosine_similarity(\n",
    "    user_tfidf_vector, event_tfidf_matrix).flatten()\n",
    "\n",
    "sorted_indices = np.argsort(similarity_scores)[::-1]\n",
    "\n",
    "sorted_events = [events[i] for i in sorted_indices]\n",
    "\n",
    "for event in sorted_events:\n",
    "    print(event)"
   ]
  }
 ],
 "metadata": {
  "kernelspec": {
   "display_name": "Python 3",
   "language": "python",
   "name": "python3"
  },
  "language_info": {
   "codemirror_mode": {
    "name": "ipython",
    "version": 3
   },
   "file_extension": ".py",
   "mimetype": "text/x-python",
   "name": "python",
   "nbconvert_exporter": "python",
   "pygments_lexer": "ipython3",
   "version": "3.10.13"
  }
 },
 "nbformat": 4,
 "nbformat_minor": 2
}
